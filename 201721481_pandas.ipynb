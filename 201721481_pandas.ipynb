{
 "cells": [
  {
   "cell_type": "markdown",
   "metadata": {},
   "source": [
    "## Pandas 기초연습문제"
   ]
  },
  {
   "cell_type": "code",
   "execution_count": 1,
   "metadata": {},
   "outputs": [],
   "source": [
    "import pandas as pd "
   ]
  },
  {
   "attachments": {
    "image.png": {
     "image/png": "[encoded data removed]"
    }
   },
   "cell_type": "markdown",
   "metadata": {},
   "source": [
    "### 1. 딕셔너리를 이용하여 아래와 같은 모양이 되도록 data frame을 생성하시오.\n",
    "![image.png](attachment:image.png)"
   ]
  },
  {
   "cell_type": "code",
   "execution_count": 2,
   "metadata": {},
   "outputs": [
    {
     "data": {
      "text/html": [
       "<div>\n",
       "<style scoped>\n",
       "    .dataframe tbody tr th:only-of-type {\n",
       "        vertical-align: middle;\n",
       "    }\n",
       "\n",
       "    .dataframe tbody tr th {\n",
       "        vertical-align: top;\n",
       "    }\n",
       "\n",
       "    .dataframe thead th {\n",
       "        text-align: right;\n",
       "    }\n",
       "</style>\n",
       "<table border=\"1\" class=\"dataframe\">\n",
       "  <thead>\n",
       "    <tr style=\"text-align: right;\">\n",
       "      <th></th>\n",
       "      <th>학번</th>\n",
       "      <th>이름</th>\n",
       "      <th>학과</th>\n",
       "      <th>Quiz</th>\n",
       "      <th>중간고사</th>\n",
       "    </tr>\n",
       "  </thead>\n",
       "  <tbody>\n",
       "    <tr>\n",
       "      <th>0</th>\n",
       "      <td>201524213</td>\n",
       "      <td>오지환</td>\n",
       "      <td>경영정보</td>\n",
       "      <td>15</td>\n",
       "      <td>20</td>\n",
       "    </tr>\n",
       "    <tr>\n",
       "      <th>1</th>\n",
       "      <td>201621223</td>\n",
       "      <td>박용택</td>\n",
       "      <td>경영정보</td>\n",
       "      <td>20</td>\n",
       "      <td>20</td>\n",
       "    </tr>\n",
       "    <tr>\n",
       "      <th>2</th>\n",
       "      <td>201621233</td>\n",
       "      <td>정성훈</td>\n",
       "      <td>경영정보</td>\n",
       "      <td>10</td>\n",
       "      <td>15</td>\n",
       "    </tr>\n",
       "    <tr>\n",
       "      <th>3</th>\n",
       "      <td>201611111</td>\n",
       "      <td>다니엘</td>\n",
       "      <td>컴퓨터공학</td>\n",
       "      <td>17</td>\n",
       "      <td>18</td>\n",
       "    </tr>\n",
       "    <tr>\n",
       "      <th>4</th>\n",
       "      <td>201722222</td>\n",
       "      <td>지민</td>\n",
       "      <td>컴퓨터공학</td>\n",
       "      <td>18</td>\n",
       "      <td>16</td>\n",
       "    </tr>\n",
       "  </tbody>\n",
       "</table>\n",
       "</div>"
      ],
      "text/plain": [
       "          학번   이름     학과  Quiz  중간고사\n",
       "0  201524213  오지환   경영정보    15    20\n",
       "1  201621223  박용택   경영정보    20    20\n",
       "2  201621233  정성훈   경영정보    10    15\n",
       "3  201611111  다니엘  컴퓨터공학    17    18\n",
       "4  201722222   지민  컴퓨터공학    18    16"
      ]
     },
     "execution_count": 2,
     "metadata": {},
     "output_type": "execute_result"
    }
   ],
   "source": [
    "score={'학번':[201524213,201621223,201621233, 201611111, 201722222],\n",
    "       '이름':['오지환','박용택','정성훈', '다니엘', '지민'],\n",
    "       '학과':['경영정보','경영정보','경영정보','컴퓨터공학','컴퓨터공학'],\n",
    "       'Quiz':[15,20,10,17,18],\n",
    "       '중간고사':[20,20,15,18,16]}    #데이터프레임 만들기 \n",
    "\n",
    "df= pd.DataFrame(score)\n",
    "df                           #데이터프레임 다루기 "
   ]
  },
  {
   "cell_type": "code",
   "execution_count": 3,
   "metadata": {},
   "outputs": [
    {
     "data": {
      "text/plain": [
       "0    201524213\n",
       "1    201621223\n",
       "2    201621233\n",
       "3    201611111\n",
       "4    201722222\n",
       "Name: 학번, dtype: int64"
      ]
     },
     "execution_count": 3,
     "metadata": {},
     "output_type": "execute_result"
    }
   ],
   "source": [
    "df['학번']   #데이터프레임 다루기 "
   ]
  },
  {
   "cell_type": "markdown",
   "metadata": {},
   "source": [
    "### 2. 위에서 생성한 데이터프레임으로부터 인덱싱을 이용하여 이름과 중간고사를 추출하시오."
   ]
  },
  {
   "cell_type": "code",
   "execution_count": 4,
   "metadata": {},
   "outputs": [
    {
     "data": {
      "text/html": [
       "<div>\n",
       "<style scoped>\n",
       "    .dataframe tbody tr th:only-of-type {\n",
       "        vertical-align: middle;\n",
       "    }\n",
       "\n",
       "    .dataframe tbody tr th {\n",
       "        vertical-align: top;\n",
       "    }\n",
       "\n",
       "    .dataframe thead th {\n",
       "        text-align: right;\n",
       "    }\n",
       "</style>\n",
       "<table border=\"1\" class=\"dataframe\">\n",
       "  <thead>\n",
       "    <tr style=\"text-align: right;\">\n",
       "      <th></th>\n",
       "      <th>이름</th>\n",
       "      <th>중간고사</th>\n",
       "    </tr>\n",
       "  </thead>\n",
       "  <tbody>\n",
       "    <tr>\n",
       "      <th>0</th>\n",
       "      <td>오지환</td>\n",
       "      <td>20</td>\n",
       "    </tr>\n",
       "    <tr>\n",
       "      <th>1</th>\n",
       "      <td>박용택</td>\n",
       "      <td>20</td>\n",
       "    </tr>\n",
       "    <tr>\n",
       "      <th>2</th>\n",
       "      <td>정성훈</td>\n",
       "      <td>15</td>\n",
       "    </tr>\n",
       "    <tr>\n",
       "      <th>3</th>\n",
       "      <td>다니엘</td>\n",
       "      <td>18</td>\n",
       "    </tr>\n",
       "    <tr>\n",
       "      <th>4</th>\n",
       "      <td>지민</td>\n",
       "      <td>16</td>\n",
       "    </tr>\n",
       "  </tbody>\n",
       "</table>\n",
       "</div>"
      ],
      "text/plain": [
       "    이름  중간고사\n",
       "0  오지환    20\n",
       "1  박용택    20\n",
       "2  정성훈    15\n",
       "3  다니엘    18\n",
       "4   지민    16"
      ]
     },
     "execution_count": 4,
     "metadata": {},
     "output_type": "execute_result"
    }
   ],
   "source": [
    "df[['이름', '중간고사']]   #이름과 중간고사 데이터만 추출 "
   ]
  },
  {
   "cell_type": "markdown",
   "metadata": {},
   "source": [
    "### 3. reindex를 이용하여 2, 0, 4, 1, 3 순으로 순서를 변경하시오."
   ]
  },
  {
   "cell_type": "code",
   "execution_count": 5,
   "metadata": {},
   "outputs": [
    {
     "data": {
      "text/html": [
       "<div>\n",
       "<style scoped>\n",
       "    .dataframe tbody tr th:only-of-type {\n",
       "        vertical-align: middle;\n",
       "    }\n",
       "\n",
       "    .dataframe tbody tr th {\n",
       "        vertical-align: top;\n",
       "    }\n",
       "\n",
       "    .dataframe thead th {\n",
       "        text-align: right;\n",
       "    }\n",
       "</style>\n",
       "<table border=\"1\" class=\"dataframe\">\n",
       "  <thead>\n",
       "    <tr style=\"text-align: right;\">\n",
       "      <th></th>\n",
       "      <th>학번</th>\n",
       "      <th>이름</th>\n",
       "      <th>학과</th>\n",
       "      <th>Quiz</th>\n",
       "      <th>중간고사</th>\n",
       "    </tr>\n",
       "  </thead>\n",
       "  <tbody>\n",
       "    <tr>\n",
       "      <th>2</th>\n",
       "      <td>201621233</td>\n",
       "      <td>정성훈</td>\n",
       "      <td>경영정보</td>\n",
       "      <td>10</td>\n",
       "      <td>15</td>\n",
       "    </tr>\n",
       "    <tr>\n",
       "      <th>0</th>\n",
       "      <td>201524213</td>\n",
       "      <td>오지환</td>\n",
       "      <td>경영정보</td>\n",
       "      <td>15</td>\n",
       "      <td>20</td>\n",
       "    </tr>\n",
       "    <tr>\n",
       "      <th>4</th>\n",
       "      <td>201722222</td>\n",
       "      <td>지민</td>\n",
       "      <td>컴퓨터공학</td>\n",
       "      <td>18</td>\n",
       "      <td>16</td>\n",
       "    </tr>\n",
       "    <tr>\n",
       "      <th>1</th>\n",
       "      <td>201621223</td>\n",
       "      <td>박용택</td>\n",
       "      <td>경영정보</td>\n",
       "      <td>20</td>\n",
       "      <td>20</td>\n",
       "    </tr>\n",
       "    <tr>\n",
       "      <th>3</th>\n",
       "      <td>201611111</td>\n",
       "      <td>다니엘</td>\n",
       "      <td>컴퓨터공학</td>\n",
       "      <td>17</td>\n",
       "      <td>18</td>\n",
       "    </tr>\n",
       "  </tbody>\n",
       "</table>\n",
       "</div>"
      ],
      "text/plain": [
       "          학번   이름     학과  Quiz  중간고사\n",
       "2  201621233  정성훈   경영정보    10    15\n",
       "0  201524213  오지환   경영정보    15    20\n",
       "4  201722222   지민  컴퓨터공학    18    16\n",
       "1  201621223  박용택   경영정보    20    20\n",
       "3  201611111  다니엘  컴퓨터공학    17    18"
      ]
     },
     "execution_count": 5,
     "metadata": {},
     "output_type": "execute_result"
    }
   ],
   "source": [
    "df= df.reindex([2,0,4,1,3])    #2,0,4,1,3 순으로 재배열하기 \n",
    "df"
   ]
  },
  {
   "cell_type": "markdown",
   "metadata": {},
   "source": [
    "### 4. iloc과 loc을 각각 이용하여 박용택 학생의 record를 추출하시오. (iloc으로 한번, loc으로 한번 수행)"
   ]
  },
  {
   "cell_type": "code",
   "execution_count": 6,
   "metadata": {},
   "outputs": [
    {
     "name": "stdout",
     "output_type": "stream",
     "text": [
      "학번      201621223\n",
      "이름            박용택\n",
      "학과           경영정보\n",
      "Quiz           20\n",
      "중간고사           20\n",
      "Name: 1, dtype: object\n",
      "학번      201621223\n",
      "이름            박용택\n",
      "학과           경영정보\n",
      "Quiz           20\n",
      "중간고사           20\n",
      "Name: 1, dtype: object\n"
     ]
    }
   ],
   "source": [
    "print(df.iloc[3])  #위치반영 추출 \n",
    "print(df.loc[1])   #라벨반영 추출"
   ]
  },
  {
   "cell_type": "markdown",
   "metadata": {},
   "source": [
    "### 5. iloc과 loc을 각각 이용하여 모든 학생의 이름과 중간고사 점수를 추출하시오. (iloc으로 한번, loc으로 한번 수행)"
   ]
  },
  {
   "cell_type": "code",
   "execution_count": 7,
   "metadata": {},
   "outputs": [
    {
     "name": "stdout",
     "output_type": "stream",
     "text": [
      "    이름  중간고사\n",
      "2  정성훈    15\n",
      "0  오지환    20\n",
      "4   지민    16\n",
      "1  박용택    20\n",
      "3  다니엘    18\n",
      "    이름  중간고사\n",
      "2  정성훈    15\n",
      "0  오지환    20\n",
      "4   지민    16\n",
      "1  박용택    20\n",
      "3  다니엘    18\n"
     ]
    }
   ],
   "source": [
    "print(df.iloc[:,[1,4]]) #위치반영 추출 \n",
    "print(df.loc[:, ['이름','중간고사']])  #라벨반영 추출"
   ]
  },
  {
   "cell_type": "markdown",
   "metadata": {},
   "source": [
    "### 6. 중간고사 점수의 평균을 구하시오."
   ]
  },
  {
   "cell_type": "code",
   "execution_count": 9,
   "metadata": {},
   "outputs": [
    {
     "data": {
      "text/plain": [
       "17.8"
      ]
     },
     "execution_count": 9,
     "metadata": {},
     "output_type": "execute_result"
    }
   ],
   "source": [
    "df['중간고사'].mean()  #평균구하기"
   ]
  },
  {
   "cell_type": "markdown",
   "metadata": {},
   "source": [
    "### 7. 중간고사 점수가 가장 낮은 학생의 index를 구하시오."
   ]
  },
  {
   "cell_type": "code",
   "execution_count": 10,
   "metadata": {},
   "outputs": [
    {
     "data": {
      "text/plain": [
       "2"
      ]
     },
     "execution_count": 10,
     "metadata": {},
     "output_type": "execute_result"
    }
   ],
   "source": [
    "df['중간고사'].idxmin()  #가장 낮은 점수를 가진 학생의 index구하기"
   ]
  },
  {
   "cell_type": "markdown",
   "metadata": {},
   "source": [
    "### 8. 퀴즈 점수가 가장 높은 학생의 학번을 구하시오."
   ]
  },
  {
   "cell_type": "code",
   "execution_count": 15,
   "metadata": {},
   "outputs": [
    {
     "data": {
      "text/plain": [
       "201621223"
      ]
     },
     "execution_count": 15,
     "metadata": {},
     "output_type": "execute_result"
    }
   ],
   "source": [
    "df.loc[df['Quiz'].idxmax(), '학번'] #loc로 가장 높은 퀴즈점수를 가진 학생의 학번구하기 "
   ]
  },
  {
   "cell_type": "markdown",
   "metadata": {},
   "source": [
    "### 9. 위 데이터프레임의 각 열에 대해서 개수, 평균, 표준편차, 최소최대값 등의 다양한 통계량을 출력하시오."
   ]
  },
  {
   "cell_type": "code",
   "execution_count": 16,
   "metadata": {},
   "outputs": [
    {
     "data": {
      "text/html": [
       "<div>\n",
       "<style scoped>\n",
       "    .dataframe tbody tr th:only-of-type {\n",
       "        vertical-align: middle;\n",
       "    }\n",
       "\n",
       "    .dataframe tbody tr th {\n",
       "        vertical-align: top;\n",
       "    }\n",
       "\n",
       "    .dataframe thead th {\n",
       "        text-align: right;\n",
       "    }\n",
       "</style>\n",
       "<table border=\"1\" class=\"dataframe\">\n",
       "  <thead>\n",
       "    <tr style=\"text-align: right;\">\n",
       "      <th></th>\n",
       "      <th>학번</th>\n",
       "      <th>Quiz</th>\n",
       "      <th>중간고사</th>\n",
       "    </tr>\n",
       "  </thead>\n",
       "  <tbody>\n",
       "    <tr>\n",
       "      <th>count</th>\n",
       "      <td>5.000000e+00</td>\n",
       "      <td>5.000000</td>\n",
       "      <td>5.000000</td>\n",
       "    </tr>\n",
       "    <tr>\n",
       "      <th>mean</th>\n",
       "      <td>2.016200e+08</td>\n",
       "      <td>16.000000</td>\n",
       "      <td>17.800000</td>\n",
       "    </tr>\n",
       "    <tr>\n",
       "      <th>std</th>\n",
       "      <td>7.018995e+04</td>\n",
       "      <td>3.807887</td>\n",
       "      <td>2.280351</td>\n",
       "    </tr>\n",
       "    <tr>\n",
       "      <th>min</th>\n",
       "      <td>2.015242e+08</td>\n",
       "      <td>10.000000</td>\n",
       "      <td>15.000000</td>\n",
       "    </tr>\n",
       "    <tr>\n",
       "      <th>25%</th>\n",
       "      <td>2.016111e+08</td>\n",
       "      <td>15.000000</td>\n",
       "      <td>16.000000</td>\n",
       "    </tr>\n",
       "    <tr>\n",
       "      <th>50%</th>\n",
       "      <td>2.016212e+08</td>\n",
       "      <td>17.000000</td>\n",
       "      <td>18.000000</td>\n",
       "    </tr>\n",
       "    <tr>\n",
       "      <th>75%</th>\n",
       "      <td>2.016212e+08</td>\n",
       "      <td>18.000000</td>\n",
       "      <td>20.000000</td>\n",
       "    </tr>\n",
       "    <tr>\n",
       "      <th>max</th>\n",
       "      <td>2.017222e+08</td>\n",
       "      <td>20.000000</td>\n",
       "      <td>20.000000</td>\n",
       "    </tr>\n",
       "  </tbody>\n",
       "</table>\n",
       "</div>"
      ],
      "text/plain": [
       "                 학번       Quiz       중간고사\n",
       "count  5.000000e+00   5.000000   5.000000\n",
       "mean   2.016200e+08  16.000000  17.800000\n",
       "std    7.018995e+04   3.807887   2.280351\n",
       "min    2.015242e+08  10.000000  15.000000\n",
       "25%    2.016111e+08  15.000000  16.000000\n",
       "50%    2.016212e+08  17.000000  18.000000\n",
       "75%    2.016212e+08  18.000000  20.000000\n",
       "max    2.017222e+08  20.000000  20.000000"
      ]
     },
     "execution_count": 16,
     "metadata": {},
     "output_type": "execute_result"
    }
   ],
   "source": [
    "df.describe()  #다양한 통계량 출력 "
   ]
  },
  {
   "cell_type": "markdown",
   "metadata": {},
   "source": [
    "### 10. 위 데이터프레임을 중간고사 점수에 따라 내림차순으로 정렬하시오."
   ]
  },
  {
   "cell_type": "code",
   "execution_count": 17,
   "metadata": {},
   "outputs": [
    {
     "data": {
      "text/html": [
       "<div>\n",
       "<style scoped>\n",
       "    .dataframe tbody tr th:only-of-type {\n",
       "        vertical-align: middle;\n",
       "    }\n",
       "\n",
       "    .dataframe tbody tr th {\n",
       "        vertical-align: top;\n",
       "    }\n",
       "\n",
       "    .dataframe thead th {\n",
       "        text-align: right;\n",
       "    }\n",
       "</style>\n",
       "<table border=\"1\" class=\"dataframe\">\n",
       "  <thead>\n",
       "    <tr style=\"text-align: right;\">\n",
       "      <th></th>\n",
       "      <th>학번</th>\n",
       "      <th>이름</th>\n",
       "      <th>학과</th>\n",
       "      <th>Quiz</th>\n",
       "      <th>중간고사</th>\n",
       "    </tr>\n",
       "  </thead>\n",
       "  <tbody>\n",
       "    <tr>\n",
       "      <th>0</th>\n",
       "      <td>201524213</td>\n",
       "      <td>오지환</td>\n",
       "      <td>경영정보</td>\n",
       "      <td>15</td>\n",
       "      <td>20</td>\n",
       "    </tr>\n",
       "    <tr>\n",
       "      <th>1</th>\n",
       "      <td>201621223</td>\n",
       "      <td>박용택</td>\n",
       "      <td>경영정보</td>\n",
       "      <td>20</td>\n",
       "      <td>20</td>\n",
       "    </tr>\n",
       "    <tr>\n",
       "      <th>3</th>\n",
       "      <td>201611111</td>\n",
       "      <td>다니엘</td>\n",
       "      <td>컴퓨터공학</td>\n",
       "      <td>17</td>\n",
       "      <td>18</td>\n",
       "    </tr>\n",
       "    <tr>\n",
       "      <th>4</th>\n",
       "      <td>201722222</td>\n",
       "      <td>지민</td>\n",
       "      <td>컴퓨터공학</td>\n",
       "      <td>18</td>\n",
       "      <td>16</td>\n",
       "    </tr>\n",
       "    <tr>\n",
       "      <th>2</th>\n",
       "      <td>201621233</td>\n",
       "      <td>정성훈</td>\n",
       "      <td>경영정보</td>\n",
       "      <td>10</td>\n",
       "      <td>15</td>\n",
       "    </tr>\n",
       "  </tbody>\n",
       "</table>\n",
       "</div>"
      ],
      "text/plain": [
       "          학번   이름     학과  Quiz  중간고사\n",
       "0  201524213  오지환   경영정보    15    20\n",
       "1  201621223  박용택   경영정보    20    20\n",
       "3  201611111  다니엘  컴퓨터공학    17    18\n",
       "4  201722222   지민  컴퓨터공학    18    16\n",
       "2  201621233  정성훈   경영정보    10    15"
      ]
     },
     "execution_count": 17,
     "metadata": {},
     "output_type": "execute_result"
    }
   ],
   "source": [
    "df.sort_values('중간고사', ascending = False)   #내림차순으로 순서 정렬"
   ]
  },
  {
   "cell_type": "markdown",
   "metadata": {},
   "source": [
    "### 11. 학생 중에서 퀴즈 점수가 평균 이상인 학생들의 이름을 출력하시오."
   ]
  },
  {
   "cell_type": "code",
   "execution_count": 19,
   "metadata": {},
   "outputs": [
    {
     "data": {
      "text/plain": [
       "4     지민\n",
       "1    박용택\n",
       "3    다니엘\n",
       "Name: 이름, dtype: object"
      ]
     },
     "execution_count": 19,
     "metadata": {},
     "output_type": "execute_result"
    }
   ],
   "source": [
    "quiz_mean = df['Quiz'].mean()     #quiz_mean을 퀴즈의 평균으로 정의\n",
    "df[df['Quiz'] > quiz_mean]['이름']  #quiz_mean보다 높은 퀴즈 점수를 가진 학생들의 이름 "
   ]
  },
  {
   "cell_type": "markdown",
   "metadata": {},
   "source": [
    "### 12. 학생 중에서 퀴즈와 중간고사 점수 모두 평균 이상인 학생들의 record를 출력하시오."
   ]
  },
  {
   "cell_type": "code",
   "execution_count": 20,
   "metadata": {},
   "outputs": [
    {
     "data": {
      "text/html": [
       "<div>\n",
       "<style scoped>\n",
       "    .dataframe tbody tr th:only-of-type {\n",
       "        vertical-align: middle;\n",
       "    }\n",
       "\n",
       "    .dataframe tbody tr th {\n",
       "        vertical-align: top;\n",
       "    }\n",
       "\n",
       "    .dataframe thead th {\n",
       "        text-align: right;\n",
       "    }\n",
       "</style>\n",
       "<table border=\"1\" class=\"dataframe\">\n",
       "  <thead>\n",
       "    <tr style=\"text-align: right;\">\n",
       "      <th></th>\n",
       "      <th>학번</th>\n",
       "      <th>이름</th>\n",
       "      <th>학과</th>\n",
       "      <th>Quiz</th>\n",
       "      <th>중간고사</th>\n",
       "    </tr>\n",
       "  </thead>\n",
       "  <tbody>\n",
       "    <tr>\n",
       "      <th>1</th>\n",
       "      <td>201621223</td>\n",
       "      <td>박용택</td>\n",
       "      <td>경영정보</td>\n",
       "      <td>20</td>\n",
       "      <td>20</td>\n",
       "    </tr>\n",
       "    <tr>\n",
       "      <th>3</th>\n",
       "      <td>201611111</td>\n",
       "      <td>다니엘</td>\n",
       "      <td>컴퓨터공학</td>\n",
       "      <td>17</td>\n",
       "      <td>18</td>\n",
       "    </tr>\n",
       "  </tbody>\n",
       "</table>\n",
       "</div>"
      ],
      "text/plain": [
       "          학번   이름     학과  Quiz  중간고사\n",
       "1  201621223  박용택   경영정보    20    20\n",
       "3  201611111  다니엘  컴퓨터공학    17    18"
      ]
     },
     "execution_count": 20,
     "metadata": {},
     "output_type": "execute_result"
    }
   ],
   "source": [
    "quiz_mean = df['Quiz'].mean() #quiz_mean을 퀴즈의 평균으로 정의\n",
    "mid_mean= df['중간고사'].mean() #mid_mean을 중간고사의 평균으로 정의 \n",
    "df[(df['Quiz'] > quiz_mean) & (df['중간고사'] > mid_mean)] #퀴즈와 중간고사모두 평균이상인 학생들은?"
   ]
  },
  {
   "cell_type": "markdown",
   "metadata": {},
   "source": [
    "### 13. value_counts를 이용하여 학과 별로 학생의 수를 구하시오."
   ]
  },
  {
   "cell_type": "code",
   "execution_count": 21,
   "metadata": {},
   "outputs": [
    {
     "data": {
      "text/plain": [
       "경영정보     3\n",
       "컴퓨터공학    2\n",
       "Name: 학과, dtype: int64"
      ]
     },
     "execution_count": 21,
     "metadata": {},
     "output_type": "execute_result"
    }
   ],
   "source": [
    "df['학과'].value_counts()    #학과별 학생수 구하기 "
   ]
  },
  {
   "cell_type": "markdown",
   "metadata": {},
   "source": [
    "### 14. groupby를 이용하여 학과 별로 중간고사의 평균을 구하시오."
   ]
  },
  {
   "cell_type": "code",
   "execution_count": 22,
   "metadata": {},
   "outputs": [
    {
     "data": {
      "text/plain": [
       "학과\n",
       "경영정보     18.333333\n",
       "컴퓨터공학    17.000000\n",
       "Name: 중간고사, dtype: float64"
      ]
     },
     "execution_count": 22,
     "metadata": {},
     "output_type": "execute_result"
    }
   ],
   "source": [
    "df.groupby('학과')['중간고사'].mean()    #학과별 중간고사 평균 구하기 "
   ]
  },
  {
   "cell_type": "code",
   "execution_count": 23,
   "metadata": {},
   "outputs": [
    {
     "data": {
      "text/plain": [
       "학번      201620000.4\n",
       "Quiz           16.0\n",
       "중간고사           17.8\n",
       "dtype: float64"
      ]
     },
     "execution_count": 23,
     "metadata": {},
     "output_type": "execute_result"
    }
   ],
   "source": [
    "df.mean()     #평균구하기 "
   ]
  },
  {
   "cell_type": "code",
   "execution_count": 25,
   "metadata": {},
   "outputs": [
    {
     "data": {
      "text/plain": [
       "[('경영정보',\n",
       "            학번   이름    학과  Quiz  중간고사\n",
       "  2  201621233  정성훈  경영정보    10    15\n",
       "  0  201524213  오지환  경영정보    15    20\n",
       "  1  201621223  박용택  경영정보    20    20),\n",
       " ('컴퓨터공학',\n",
       "            학번   이름     학과  Quiz  중간고사\n",
       "  4  201722222   지민  컴퓨터공학    18    16\n",
       "  3  201611111  다니엘  컴퓨터공학    17    18)]"
      ]
     },
     "execution_count": 25,
     "metadata": {},
     "output_type": "execute_result"
    }
   ],
   "source": [
    "list(df.groupby('학과'))      #리스트화 시키기"
   ]
  }
 ],
 "metadata": {
  "kernelspec": {
   "display_name": "Python 3",
   "language": "python",
   "name": "python3"
  },
  "language_info": {
   "codemirror_mode": {
    "name": "ipython",
    "version": 3
   },
   "file_extension": ".py",
   "mimetype": "text/x-python",
   "name": "python",
   "nbconvert_exporter": "python",
   "pygments_lexer": "ipython3",
   "version": "3.8.3"
  }
 },
 "nbformat": 4,
 "nbformat_minor": 4
}
